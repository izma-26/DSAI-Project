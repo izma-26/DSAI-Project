{
 "cells": [
  {
   "cell_type": "code",
   "execution_count": 51,
   "id": "24892393-1a33-4025-a6e6-6ca1eb687dea",
   "metadata": {},
   "outputs": [
    {
     "name": "stdout",
     "output_type": "stream",
     "text": [
      "Requirement already satisfied: Scikit-Learn in c:\\users\\ismae\\miniconda3\\envs\\py38\\lib\\site-packages (1.3.2)\n",
      "Requirement already satisfied: numpy<2.0,>=1.17.3 in c:\\users\\ismae\\miniconda3\\envs\\py38\\lib\\site-packages (from Scikit-Learn) (1.24.4)\n",
      "Requirement already satisfied: scipy>=1.5.0 in c:\\users\\ismae\\miniconda3\\envs\\py38\\lib\\site-packages (from Scikit-Learn) (1.10.1)\n",
      "Requirement already satisfied: joblib>=1.1.1 in c:\\users\\ismae\\miniconda3\\envs\\py38\\lib\\site-packages (from Scikit-Learn) (1.3.2)\n",
      "Requirement already satisfied: threadpoolctl>=2.0.0 in c:\\users\\ismae\\miniconda3\\envs\\py38\\lib\\site-packages (from Scikit-Learn) (3.2.0)\n",
      "Note: you may need to restart the kernel to use updated packages.\n"
     ]
    }
   ],
   "source": [
    "pip install Scikit-Learn"
   ]
  },
  {
   "cell_type": "code",
   "execution_count": 31,
   "id": "3ae3fb0e-44c9-46f8-9f19-4c8de6120319",
   "metadata": {},
   "outputs": [],
   "source": [
    "import numpy as np\n",
    "import torch\n",
    "import pandas as pd\n",
    "import torchvision\n",
    "import matplotlib.pyplot as plt\n",
    "from sklearn.datasets import load_iris\n",
    "from sklearn.model_selection import train_test_split\n",
    "from sklearn.ensemble import RandomForestClassifier\n",
    "from sklearn import metrics\n",
    "from sklearn.metrics import roc_curve, auc\n",
    "from sklearn.preprocessing import label_binarize\n",
    "%matplotlib inline"
   ]
  },
  {
   "cell_type": "code",
   "execution_count": 16,
   "id": "87d00307-2975-4e37-a054-55fada3dab28",
   "metadata": {},
   "outputs": [],
   "source": [
    "\n",
    "db = pd.read_csv('IRIS_ Flower_Dataset.csv')\n"
   ]
  },
  {
   "cell_type": "code",
   "execution_count": 17,
   "id": "8a493dc4-0f14-406d-bd60-d8118405776b",
   "metadata": {},
   "outputs": [
    {
     "name": "stdout",
     "output_type": "stream",
     "text": [
      "    sepal_length  sepal_width  petal_length  petal_width      species\n",
      "14           5.8          4.0           1.2          0.2  Iris-setosa\n",
      "18           5.7          3.8           1.7          0.3  Iris-setosa\n",
      "15           5.7          4.4           1.5          0.4  Iris-setosa\n",
      "36           5.5          3.5           1.3          0.2  Iris-setosa\n",
      "33           5.5          4.2           1.4          0.2  Iris-setosa\n",
      "31           5.4          3.4           1.5          0.4  Iris-setosa\n",
      "5            5.4          3.9           1.7          0.4  Iris-setosa\n",
      "20           5.4          3.4           1.7          0.2  Iris-setosa\n",
      "16           5.4          3.9           1.3          0.4  Iris-setosa\n",
      "10           5.4          3.7           1.5          0.2  Iris-setosa\n",
      "\n",
      "----------------------------------------------------\n",
      "\n",
      "    sepal_length  sepal_width  petal_length  petal_width      species\n",
      "15           5.7          4.4           1.5          0.4  Iris-setosa\n",
      "33           5.5          4.2           1.4          0.2  Iris-setosa\n",
      "32           5.2          4.1           1.5          0.1  Iris-setosa\n",
      "14           5.8          4.0           1.2          0.2  Iris-setosa\n",
      "16           5.4          3.9           1.3          0.4  Iris-setosa\n",
      "5            5.4          3.9           1.7          0.4  Iris-setosa\n",
      "19           5.1          3.8           1.5          0.3  Iris-setosa\n",
      "18           5.7          3.8           1.7          0.3  Iris-setosa\n",
      "46           5.1          3.8           1.6          0.2  Iris-setosa\n",
      "44           5.1          3.8           1.9          0.4  Iris-setosa\n",
      "\n",
      "----------------------------------------------------\n",
      "\n",
      "    sepal_length  sepal_width  petal_length  petal_width      species\n",
      "24           4.8          3.4           1.9          0.2  Iris-setosa\n",
      "44           5.1          3.8           1.9          0.4  Iris-setosa\n",
      "23           5.1          3.3           1.7          0.5  Iris-setosa\n",
      "5            5.4          3.9           1.7          0.4  Iris-setosa\n",
      "20           5.4          3.4           1.7          0.2  Iris-setosa\n",
      "18           5.7          3.8           1.7          0.3  Iris-setosa\n",
      "25           5.0          3.0           1.6          0.2  Iris-setosa\n",
      "11           4.8          3.4           1.6          0.2  Iris-setosa\n",
      "26           5.0          3.4           1.6          0.4  Iris-setosa\n",
      "30           4.8          3.1           1.6          0.2  Iris-setosa\n",
      "\n",
      "----------------------------------------------------\n",
      "\n",
      "    sepal_length  sepal_width  petal_length  petal_width      species\n",
      "43           5.0          3.5           1.6          0.6  Iris-setosa\n",
      "23           5.1          3.3           1.7          0.5  Iris-setosa\n",
      "26           5.0          3.4           1.6          0.4  Iris-setosa\n",
      "31           5.4          3.4           1.5          0.4  Iris-setosa\n",
      "5            5.4          3.9           1.7          0.4  Iris-setosa\n",
      "16           5.4          3.9           1.3          0.4  Iris-setosa\n",
      "44           5.1          3.8           1.9          0.4  Iris-setosa\n",
      "15           5.7          4.4           1.5          0.4  Iris-setosa\n",
      "21           5.1          3.7           1.5          0.4  Iris-setosa\n",
      "40           5.0          3.5           1.3          0.3  Iris-setosa\n"
     ]
    }
   ],
   "source": [
    "db_setosa = db.loc[db['species'] == 'Iris-setosa']\n",
    "print(db_setosa.sort_values(by='sepal_length', ascending=False).head(10))\n",
    "\n",
    "print('\\n----------------------------------------------------\\n')\n",
    "print(db_setosa.sort_values(by='sepal_width', ascending=False).head(10))\n",
    "print('\\n----------------------------------------------------\\n')\n",
    "print(db_setosa.sort_values(by='petal_length', ascending=False).head(10))\n",
    "print('\\n----------------------------------------------------\\n')\n",
    "print(db_setosa.sort_values(by='petal_width', ascending=False).head(10))"
   ]
  },
  {
   "cell_type": "code",
   "execution_count": 18,
   "id": "fc32571a-8bde-41cd-bf9f-6af777b59fad",
   "metadata": {},
   "outputs": [
    {
     "name": "stdout",
     "output_type": "stream",
     "text": [
      "    sepal_length  sepal_width  petal_length  petal_width          species\n",
      "50           7.0          3.2           4.7          1.4  Iris-versicolor\n",
      "52           6.9          3.1           4.9          1.5  Iris-versicolor\n",
      "76           6.8          2.8           4.8          1.4  Iris-versicolor\n",
      "86           6.7          3.1           4.7          1.5  Iris-versicolor\n",
      "77           6.7          3.0           5.0          1.7  Iris-versicolor\n",
      "65           6.7          3.1           4.4          1.4  Iris-versicolor\n",
      "58           6.6          2.9           4.6          1.3  Iris-versicolor\n",
      "75           6.6          3.0           4.4          1.4  Iris-versicolor\n",
      "54           6.5          2.8           4.6          1.5  Iris-versicolor\n",
      "74           6.4          2.9           4.3          1.3  Iris-versicolor\n",
      "\n",
      "----------------------------------------------------\n",
      "\n",
      "    sepal_length  sepal_width  petal_length  petal_width          species\n",
      "85           6.0          3.4           4.5          1.6  Iris-versicolor\n",
      "56           6.3          3.3           4.7          1.6  Iris-versicolor\n",
      "50           7.0          3.2           4.7          1.4  Iris-versicolor\n",
      "51           6.4          3.2           4.5          1.5  Iris-versicolor\n",
      "70           5.9          3.2           4.8          1.8  Iris-versicolor\n",
      "65           6.7          3.1           4.4          1.4  Iris-versicolor\n",
      "52           6.9          3.1           4.9          1.5  Iris-versicolor\n",
      "86           6.7          3.1           4.7          1.5  Iris-versicolor\n",
      "95           5.7          3.0           4.2          1.2  Iris-versicolor\n",
      "91           6.1          3.0           4.6          1.4  Iris-versicolor\n",
      "\n",
      "----------------------------------------------------\n",
      "\n",
      "    sepal_length  sepal_width  petal_length  petal_width          species\n",
      "83           6.0          2.7           5.1          1.6  Iris-versicolor\n",
      "77           6.7          3.0           5.0          1.7  Iris-versicolor\n",
      "72           6.3          2.5           4.9          1.5  Iris-versicolor\n",
      "52           6.9          3.1           4.9          1.5  Iris-versicolor\n",
      "70           5.9          3.2           4.8          1.8  Iris-versicolor\n",
      "76           6.8          2.8           4.8          1.4  Iris-versicolor\n",
      "86           6.7          3.1           4.7          1.5  Iris-versicolor\n",
      "63           6.1          2.9           4.7          1.4  Iris-versicolor\n",
      "73           6.1          2.8           4.7          1.2  Iris-versicolor\n",
      "50           7.0          3.2           4.7          1.4  Iris-versicolor\n",
      "\n",
      "----------------------------------------------------\n",
      "\n",
      "    sepal_length  sepal_width  petal_length  petal_width          species\n",
      "70           5.9          3.2           4.8          1.8  Iris-versicolor\n",
      "77           6.7          3.0           5.0          1.7  Iris-versicolor\n",
      "56           6.3          3.3           4.7          1.6  Iris-versicolor\n",
      "85           6.0          3.4           4.5          1.6  Iris-versicolor\n",
      "83           6.0          2.7           5.1          1.6  Iris-versicolor\n",
      "86           6.7          3.1           4.7          1.5  Iris-versicolor\n",
      "54           6.5          2.8           4.6          1.5  Iris-versicolor\n",
      "84           5.4          3.0           4.5          1.5  Iris-versicolor\n",
      "68           6.2          2.2           4.5          1.5  Iris-versicolor\n",
      "78           6.0          2.9           4.5          1.5  Iris-versicolor\n"
     ]
    }
   ],
   "source": [
    "db_versicolor = db.loc[db['species'] == 'Iris-versicolor']\n",
    "print(db_versicolor.sort_values(by='sepal_length', ascending=False).head(10))\n",
    "\n",
    "print('\\n----------------------------------------------------\\n')\n",
    "print(db_versicolor.sort_values(by='sepal_width', ascending=False).head(10))\n",
    "print('\\n----------------------------------------------------\\n')\n",
    "print(db_versicolor.sort_values(by='petal_length', ascending=False).head(10))\n",
    "print('\\n----------------------------------------------------\\n')\n",
    "print(db_versicolor.sort_values(by='petal_width', ascending=False).head(10))"
   ]
  },
  {
   "cell_type": "code",
   "execution_count": 19,
   "id": "fbbaee9a-e085-4068-ae52-e1b4b3656f31",
   "metadata": {},
   "outputs": [
    {
     "name": "stdout",
     "output_type": "stream",
     "text": [
      "     sepal_length  sepal_width  petal_length  petal_width         species\n",
      "131           7.9          3.8           6.4          2.0  Iris-virginica\n",
      "135           7.7          3.0           6.1          2.3  Iris-virginica\n",
      "118           7.7          2.6           6.9          2.3  Iris-virginica\n",
      "122           7.7          2.8           6.7          2.0  Iris-virginica\n",
      "117           7.7          3.8           6.7          2.2  Iris-virginica\n",
      "105           7.6          3.0           6.6          2.1  Iris-virginica\n",
      "130           7.4          2.8           6.1          1.9  Iris-virginica\n",
      "107           7.3          2.9           6.3          1.8  Iris-virginica\n",
      "125           7.2          3.2           6.0          1.8  Iris-virginica\n",
      "129           7.2          3.0           5.8          1.6  Iris-virginica\n",
      "\n",
      "----------------------------------------------------\n",
      "\n",
      "     sepal_length  sepal_width  petal_length  petal_width         species\n",
      "131           7.9          3.8           6.4          2.0  Iris-virginica\n",
      "117           7.7          3.8           6.7          2.2  Iris-virginica\n",
      "109           7.2          3.6           6.1          2.5  Iris-virginica\n",
      "148           6.2          3.4           5.4          2.3  Iris-virginica\n",
      "136           6.3          3.4           5.6          2.4  Iris-virginica\n",
      "100           6.3          3.3           6.0          2.5  Iris-virginica\n",
      "144           6.7          3.3           5.7          2.5  Iris-virginica\n",
      "124           6.7          3.3           5.7          2.1  Iris-virginica\n",
      "115           6.4          3.2           5.3          2.3  Iris-virginica\n",
      "143           6.8          3.2           5.9          2.3  Iris-virginica\n",
      "\n",
      "----------------------------------------------------\n",
      "\n",
      "     sepal_length  sepal_width  petal_length  petal_width         species\n",
      "118           7.7          2.6           6.9          2.3  Iris-virginica\n",
      "117           7.7          3.8           6.7          2.2  Iris-virginica\n",
      "122           7.7          2.8           6.7          2.0  Iris-virginica\n",
      "105           7.6          3.0           6.6          2.1  Iris-virginica\n",
      "131           7.9          3.8           6.4          2.0  Iris-virginica\n",
      "107           7.3          2.9           6.3          1.8  Iris-virginica\n",
      "135           7.7          3.0           6.1          2.3  Iris-virginica\n",
      "130           7.4          2.8           6.1          1.9  Iris-virginica\n",
      "109           7.2          3.6           6.1          2.5  Iris-virginica\n",
      "100           6.3          3.3           6.0          2.5  Iris-virginica\n",
      "\n",
      "----------------------------------------------------\n",
      "\n",
      "     sepal_length  sepal_width  petal_length  petal_width         species\n",
      "100           6.3          3.3           6.0          2.5  Iris-virginica\n",
      "144           6.7          3.3           5.7          2.5  Iris-virginica\n",
      "109           7.2          3.6           6.1          2.5  Iris-virginica\n",
      "114           5.8          2.8           5.1          2.4  Iris-virginica\n",
      "140           6.7          3.1           5.6          2.4  Iris-virginica\n",
      "136           6.3          3.4           5.6          2.4  Iris-virginica\n",
      "141           6.9          3.1           5.1          2.3  Iris-virginica\n",
      "120           6.9          3.2           5.7          2.3  Iris-virginica\n",
      "143           6.8          3.2           5.9          2.3  Iris-virginica\n",
      "115           6.4          3.2           5.3          2.3  Iris-virginica\n"
     ]
    }
   ],
   "source": [
    "db_virginica = db.loc[db['species'] == 'Iris-virginica']\n",
    "print(db_virginica.sort_values(by='sepal_length', ascending=False).head(10))\n",
    "\n",
    "print('\\n----------------------------------------------------\\n')\n",
    "print(db_virginica.sort_values(by='sepal_width', ascending=False).head(10))\n",
    "print('\\n----------------------------------------------------\\n')\n",
    "print(db_virginica.sort_values(by='petal_length', ascending=False).head(10))\n",
    "print('\\n----------------------------------------------------\\n')\n",
    "print(db_virginica.sort_values(by='petal_width', ascending=False).head(10))"
   ]
  },
  {
   "cell_type": "code",
   "execution_count": null,
   "id": "52eaf917-089c-4e0a-95e2-df92dad0165a",
   "metadata": {},
   "outputs": [],
   "source": [
    "\n",
    "\n",
    "\n",
    "\n"
   ]
  },
  {
   "cell_type": "code",
   "execution_count": 27,
   "id": "d8835700-ed17-4d48-874b-8ffcd1e9c7a9",
   "metadata": {},
   "outputs": [
    {
     "name": "stdout",
     "output_type": "stream",
     "text": [
      "0         Iris-setosa\n",
      "1         Iris-setosa\n",
      "2         Iris-setosa\n",
      "3         Iris-setosa\n",
      "4         Iris-setosa\n",
      "            ...      \n",
      "145    Iris-virginica\n",
      "146    Iris-virginica\n",
      "147    Iris-virginica\n",
      "148    Iris-virginica\n",
      "149    Iris-virginica\n",
      "Name: species, Length: 150, dtype: object\n"
     ]
    }
   ],
   "source": [
    " X_train, X_test, y_train, y_test = train_test_split(db.drop(['species'],axis='columns'),db['species'],test_size=0.2)\n",
    "model = RandomForestClassifier()\n",
    "\n",
    "model.fit(X_train, y_train)\n",
    "\n",
    "\n",
    "print(db['species'])\n"
   ]
  },
  {
   "cell_type": "code",
   "execution_count": null,
   "id": "d34e92e1-31ce-4493-81e0-0f8c1912d8e2",
   "metadata": {},
   "outputs": [],
   "source": [
    "model.score(X_test,y_test)"
   ]
  },
  {
   "cell_type": "code",
   "execution_count": null,
   "id": "f48a3dac-38bf-4853-8e82-0bd63052e3c3",
   "metadata": {},
   "outputs": [],
   "source": [
    "\n",
    "y_pred_test = model.predict(X_test)\n",
    "\n",
    "accuracy_score(y_test, y_pred_test)\n",
    "\n",
    "\n",
    "\n",
    "\n",
    "\n",
    "\n",
    "\n",
    "\n",
    "\n",
    "\n",
    "\n"
   ]
  },
  {
   "cell_type": "code",
   "execution_count": null,
   "id": "b75166c1-6d52-4739-9452-7d4dacfc18bd",
   "metadata": {},
   "outputs": [],
   "source": [
    "print(classification_report(y_test, y_pred_test))\n"
   ]
  },
  {
   "cell_type": "code",
   "execution_count": 32,
   "id": "8a506588-2ef5-42b1-b5ff-0ba3eccc706d",
   "metadata": {},
   "outputs": [
    {
     "data": {
      "image/png": "[encoded data removed]",
      "text/plain": [
       "<Figure size 800x800 with 1 Axes>"
      ]
     },
     "metadata": {},
     "output_type": "display_data"
    }
   ],
   "source": [
    "# Binarize the labels for multi-class ROC\n",
    "y_train_bin = label_binarize(y_train, classes=db['species'].unique())\n",
    "y_test_bin = label_binarize(y_test, classes=db['species'].unique())\n",
    "\n",
    "\n",
    "# Predict probabilities\n",
    "y_score = model.predict_proba(X_test)\n",
    "\n",
    "# Compute ROC curve and AUC for each class\n",
    "fpr = dict()\n",
    "tpr = dict()\n",
    "roc_auc = dict()\n",
    "\n",
    "# For each class\n",
    "for i in range(len(db['species'].unique())):\n",
    "    fpr[i], tpr[i], _ = roc_curve(y_test_bin[:, i], y_score[:, i])\n",
    "    roc_auc[i] = auc(fpr[i], tpr[i])\n",
    "\n",
    "# Plot ROC curve\n",
    "plt.figure(figsize=(8, 8))\n",
    "for i in range(len(db['species'].unique())):\n",
    "    plt.plot(fpr[i], tpr[i], lw=2, label=f'Class {i} (AUC = {roc_auc[i]:.2f})')\n",
    "\n",
    "plt.plot([0, 1], [0, 1], color='navy', lw=2, linestyle='--')\n",
    "plt.xlabel('False Positive Rate')\n",
    "plt.ylabel('True Positive Rate')\n",
    "plt.title('Receiver Operating Characteristic (ROC) Curve - Multi-Class')\n",
    "plt.legend(loc='lower right')\n",
    "plt.show()"
   ]
  },
  {
   "cell_type": "code",
   "execution_count": null,
   "id": "2ced797a-1b4c-4d15-b284-5f534ba98fb4",
   "metadata": {},
   "outputs": [],
   "source": []
  },
  {
   "cell_type": "code",
   "execution_count": null,
   "id": "f549674e-3197-4773-b911-31971de3b010",
   "metadata": {},
   "outputs": [],
   "source": []
  },
  {
   "cell_type": "code",
   "execution_count": null,
   "id": "63e718b8-e90b-4891-bce9-c81ca130b307",
   "metadata": {},
   "outputs": [],
   "source": []
  },
  {
   "cell_type": "code",
   "execution_count": null,
   "id": "d2a82926-7761-4800-9d69-81aaf034d251",
   "metadata": {},
   "outputs": [],
   "source": []
  }
 ],
 "metadata": {
  "kernelspec": {
   "display_name": "Python 3 (ipykernel)",
   "language": "python",
   "name": "python3"
  },
  "language_info": {
   "codemirror_mode": {
    "name": "ipython",
    "version": 3
   },
   "file_extension": ".py",
   "mimetype": "text/x-python",
   "name": "python",
   "nbconvert_exporter": "python",
   "pygments_lexer": "ipython3",
   "version": "3.8.17"
  }
 },
 "nbformat": 4,
 "nbformat_minor": 5
}
